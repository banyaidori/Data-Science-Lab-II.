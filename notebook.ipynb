{
 "cells": [
  {
   "attachments": {},
   "cell_type": "markdown",
   "metadata": {},
   "source": [
    "# Import"
   ]
  },
  {
   "cell_type": "code",
   "execution_count": 10,
   "metadata": {},
   "outputs": [],
   "source": [
    "from BeeDataClass import BeeData\n",
    "from GAClass import GeneticAlgorithm\n",
    "import Constants\n",
    "import pandas as pd"
   ]
  },
  {
   "attachments": {},
   "cell_type": "markdown",
   "metadata": {},
   "source": [
    "# Feature extraction"
   ]
  },
  {
   "attachments": {},
   "cell_type": "markdown",
   "metadata": {},
   "source": [
    "### By creating WAV files and doing the feature extraction"
   ]
  },
  {
   "attachments": {},
   "cell_type": "markdown",
   "metadata": {},
   "source": [
    "2020.05.02_M3_time_corrected folder"
   ]
  },
  {
   "cell_type": "code",
   "execution_count": 11,
   "metadata": {},
   "outputs": [
    {
     "name": "stdout",
     "output_type": "stream",
     "text": [
      "Done with converting #3368 files\n"
     ]
    }
   ],
   "source": [
    "data_0502 = BeeData(Constants.FOLDER[0], Constants.SWARMING, convert_pcm_wav = True)"
   ]
  },
  {
   "cell_type": "code",
   "execution_count": 12,
   "metadata": {},
   "outputs": [
    {
     "name": "stderr",
     "output_type": "stream",
     "text": [
      "Feature extraction: 100%|██████████| 3368/3368 [20:51<00:00,  2.69it/s]\n"
     ]
    }
   ],
   "source": [
    "features = data_0502.feature_extraction()"
   ]
  },
  {
   "cell_type": "code",
   "execution_count": null,
   "metadata": {},
   "outputs": [],
   "source": [
    "data_0502.create_df_from_features(features)"
   ]
  },
  {
   "cell_type": "code",
   "execution_count": 14,
   "metadata": {},
   "outputs": [
    {
     "data": {
      "text/html": [
       "<div>\n",
       "<style scoped>\n",
       "    .dataframe tbody tr th:only-of-type {\n",
       "        vertical-align: middle;\n",
       "    }\n",
       "\n",
       "    .dataframe tbody tr th {\n",
       "        vertical-align: top;\n",
       "    }\n",
       "\n",
       "    .dataframe thead th {\n",
       "        text-align: right;\n",
       "    }\n",
       "</style>\n",
       "<table border=\"1\" class=\"dataframe\">\n",
       "  <thead>\n",
       "    <tr style=\"text-align: right;\">\n",
       "      <th></th>\n",
       "      <th>filename</th>\n",
       "      <th>length</th>\n",
       "      <th>mean_stft</th>\n",
       "      <th>var_stft</th>\n",
       "      <th>tempo</th>\n",
       "      <th>rms_mean</th>\n",
       "      <th>rms_var</th>\n",
       "      <th>centroid_mean</th>\n",
       "      <th>centroid_var</th>\n",
       "      <th>bandwidth_mean</th>\n",
       "      <th>...</th>\n",
       "      <th>cqt_mean</th>\n",
       "      <th>cqt_var</th>\n",
       "      <th>flatness_mean</th>\n",
       "      <th>flatness_var</th>\n",
       "      <th>tonnetz_mean</th>\n",
       "      <th>tonnetz_var</th>\n",
       "      <th>date</th>\n",
       "      <th>time</th>\n",
       "      <th>some_id</th>\n",
       "      <th>swarming_score</th>\n",
       "    </tr>\n",
       "  </thead>\n",
       "  <tbody>\n",
       "    <tr>\n",
       "      <th>0</th>\n",
       "      <td>200422-224431-46.wav</td>\n",
       "      <td>1.0</td>\n",
       "      <td>0.437470</td>\n",
       "      <td>0.591831</td>\n",
       "      <td>0.357143</td>\n",
       "      <td>0.000553</td>\n",
       "      <td>1.261622e-07</td>\n",
       "      <td>0.401858</td>\n",
       "      <td>0.020507</td>\n",
       "      <td>0.495841</td>\n",
       "      <td>...</td>\n",
       "      <td>0.414255</td>\n",
       "      <td>0.462325</td>\n",
       "      <td>0.104549</td>\n",
       "      <td>0.001723</td>\n",
       "      <td>0.448714</td>\n",
       "      <td>0.076572</td>\n",
       "      <td>200422</td>\n",
       "      <td>224431</td>\n",
       "      <td>46</td>\n",
       "      <td>889.483333</td>\n",
       "    </tr>\n",
       "    <tr>\n",
       "      <th>1</th>\n",
       "      <td>200418-012023-49.wav</td>\n",
       "      <td>1.0</td>\n",
       "      <td>0.148294</td>\n",
       "      <td>0.764870</td>\n",
       "      <td>0.357143</td>\n",
       "      <td>0.005881</td>\n",
       "      <td>1.291140e-05</td>\n",
       "      <td>0.225899</td>\n",
       "      <td>0.005208</td>\n",
       "      <td>0.296632</td>\n",
       "      <td>...</td>\n",
       "      <td>0.394253</td>\n",
       "      <td>0.613037</td>\n",
       "      <td>0.024510</td>\n",
       "      <td>0.000149</td>\n",
       "      <td>0.401618</td>\n",
       "      <td>0.040579</td>\n",
       "      <td>200418</td>\n",
       "      <td>012023</td>\n",
       "      <td>49</td>\n",
       "      <td>7933.616667</td>\n",
       "    </tr>\n",
       "    <tr>\n",
       "      <th>2</th>\n",
       "      <td>200412-062622-44.wav</td>\n",
       "      <td>1.0</td>\n",
       "      <td>0.486475</td>\n",
       "      <td>0.477887</td>\n",
       "      <td>0.510204</td>\n",
       "      <td>0.000470</td>\n",
       "      <td>2.854085e-07</td>\n",
       "      <td>0.324459</td>\n",
       "      <td>0.042563</td>\n",
       "      <td>0.513902</td>\n",
       "      <td>...</td>\n",
       "      <td>0.482256</td>\n",
       "      <td>0.576070</td>\n",
       "      <td>0.035522</td>\n",
       "      <td>0.000343</td>\n",
       "      <td>0.530707</td>\n",
       "      <td>0.147793</td>\n",
       "      <td>200412</td>\n",
       "      <td>062622</td>\n",
       "      <td>44</td>\n",
       "      <td>16267.633333</td>\n",
       "    </tr>\n",
       "    <tr>\n",
       "      <th>3</th>\n",
       "      <td>200429-090911-41.wav</td>\n",
       "      <td>1.0</td>\n",
       "      <td>0.567263</td>\n",
       "      <td>0.405675</td>\n",
       "      <td>0.357143</td>\n",
       "      <td>0.002065</td>\n",
       "      <td>1.807577e-06</td>\n",
       "      <td>0.337394</td>\n",
       "      <td>0.018458</td>\n",
       "      <td>0.487871</td>\n",
       "      <td>...</td>\n",
       "      <td>0.557136</td>\n",
       "      <td>0.402733</td>\n",
       "      <td>0.062345</td>\n",
       "      <td>0.000873</td>\n",
       "      <td>0.434716</td>\n",
       "      <td>0.049455</td>\n",
       "      <td>200429</td>\n",
       "      <td>090911</td>\n",
       "      <td>41</td>\n",
       "      <td>7527.816667</td>\n",
       "    </tr>\n",
       "    <tr>\n",
       "      <th>4</th>\n",
       "      <td>200415-013007-48.wav</td>\n",
       "      <td>1.0</td>\n",
       "      <td>0.369094</td>\n",
       "      <td>0.560836</td>\n",
       "      <td>0.357143</td>\n",
       "      <td>0.003183</td>\n",
       "      <td>2.105650e-06</td>\n",
       "      <td>0.245036</td>\n",
       "      <td>0.003657</td>\n",
       "      <td>0.309775</td>\n",
       "      <td>...</td>\n",
       "      <td>0.612181</td>\n",
       "      <td>0.355308</td>\n",
       "      <td>0.037567</td>\n",
       "      <td>0.000158</td>\n",
       "      <td>0.418474</td>\n",
       "      <td>0.034596</td>\n",
       "      <td>200415</td>\n",
       "      <td>013007</td>\n",
       "      <td>48</td>\n",
       "      <td>12243.883333</td>\n",
       "    </tr>\n",
       "  </tbody>\n",
       "</table>\n",
       "<p>5 rows × 31 columns</p>\n",
       "</div>"
      ],
      "text/plain": [
       "               filename  length  mean_stft  var_stft     tempo  rms_mean  \\\n",
       "0  200422-224431-46.wav     1.0   0.437470  0.591831  0.357143  0.000553   \n",
       "1  200418-012023-49.wav     1.0   0.148294  0.764870  0.357143  0.005881   \n",
       "2  200412-062622-44.wav     1.0   0.486475  0.477887  0.510204  0.000470   \n",
       "3  200429-090911-41.wav     1.0   0.567263  0.405675  0.357143  0.002065   \n",
       "4  200415-013007-48.wav     1.0   0.369094  0.560836  0.357143  0.003183   \n",
       "\n",
       "        rms_var  centroid_mean  centroid_var  bandwidth_mean  ...  cqt_mean  \\\n",
       "0  1.261622e-07       0.401858      0.020507        0.495841  ...  0.414255   \n",
       "1  1.291140e-05       0.225899      0.005208        0.296632  ...  0.394253   \n",
       "2  2.854085e-07       0.324459      0.042563        0.513902  ...  0.482256   \n",
       "3  1.807577e-06       0.337394      0.018458        0.487871  ...  0.557136   \n",
       "4  2.105650e-06       0.245036      0.003657        0.309775  ...  0.612181   \n",
       "\n",
       "    cqt_var  flatness_mean  flatness_var  tonnetz_mean  tonnetz_var    date  \\\n",
       "0  0.462325       0.104549      0.001723      0.448714     0.076572  200422   \n",
       "1  0.613037       0.024510      0.000149      0.401618     0.040579  200418   \n",
       "2  0.576070       0.035522      0.000343      0.530707     0.147793  200412   \n",
       "3  0.402733       0.062345      0.000873      0.434716     0.049455  200429   \n",
       "4  0.355308       0.037567      0.000158      0.418474     0.034596  200415   \n",
       "\n",
       "     time  some_id  swarming_score  \n",
       "0  224431       46      889.483333  \n",
       "1  012023       49     7933.616667  \n",
       "2  062622       44    16267.633333  \n",
       "3  090911       41     7527.816667  \n",
       "4  013007       48    12243.883333  \n",
       "\n",
       "[5 rows x 31 columns]"
      ]
     },
     "execution_count": 14,
     "metadata": {},
     "output_type": "execute_result"
    }
   ],
   "source": [
    "df_0502 = data_0502.get_dataframe()\n",
    "df_0502.head()"
   ]
  },
  {
   "cell_type": "code",
   "execution_count": null,
   "metadata": {},
   "outputs": [],
   "source": [
    "#data_0502.save_df_to_pickle()"
   ]
  },
  {
   "attachments": {},
   "cell_type": "markdown",
   "metadata": {},
   "source": [
    "### Loading from a pickle file"
   ]
  },
  {
   "attachments": {},
   "cell_type": "markdown",
   "metadata": {},
   "source": [
    "2020.05.24_M3_time_corrected folder"
   ]
  },
  {
   "cell_type": "code",
   "execution_count": 15,
   "metadata": {},
   "outputs": [
    {
     "data": {
      "text/html": [
       "<div>\n",
       "<style scoped>\n",
       "    .dataframe tbody tr th:only-of-type {\n",
       "        vertical-align: middle;\n",
       "    }\n",
       "\n",
       "    .dataframe tbody tr th {\n",
       "        vertical-align: top;\n",
       "    }\n",
       "\n",
       "    .dataframe thead th {\n",
       "        text-align: right;\n",
       "    }\n",
       "</style>\n",
       "<table border=\"1\" class=\"dataframe\">\n",
       "  <thead>\n",
       "    <tr style=\"text-align: right;\">\n",
       "      <th></th>\n",
       "      <th>filename</th>\n",
       "      <th>length</th>\n",
       "      <th>mean_stft</th>\n",
       "      <th>var_stft</th>\n",
       "      <th>tempo</th>\n",
       "      <th>rms_mean</th>\n",
       "      <th>rms_var</th>\n",
       "      <th>centroid_mean</th>\n",
       "      <th>centroid_var</th>\n",
       "      <th>bandwidth_mean</th>\n",
       "      <th>...</th>\n",
       "      <th>cqt_mean</th>\n",
       "      <th>cqt_var</th>\n",
       "      <th>flatness_mean</th>\n",
       "      <th>flatness_var</th>\n",
       "      <th>tonnetz_mean</th>\n",
       "      <th>tonnetz_var</th>\n",
       "      <th>date</th>\n",
       "      <th>time</th>\n",
       "      <th>some_id</th>\n",
       "      <th>swarming_score</th>\n",
       "    </tr>\n",
       "  </thead>\n",
       "  <tbody>\n",
       "    <tr>\n",
       "      <th>0</th>\n",
       "      <td>200422-224431-46.wav</td>\n",
       "      <td>1.0</td>\n",
       "      <td>0.437470</td>\n",
       "      <td>0.591831</td>\n",
       "      <td>0.357143</td>\n",
       "      <td>0.000553</td>\n",
       "      <td>1.261622e-07</td>\n",
       "      <td>0.401858</td>\n",
       "      <td>0.020507</td>\n",
       "      <td>0.495841</td>\n",
       "      <td>...</td>\n",
       "      <td>0.414255</td>\n",
       "      <td>0.462325</td>\n",
       "      <td>0.104549</td>\n",
       "      <td>0.001723</td>\n",
       "      <td>0.448714</td>\n",
       "      <td>0.076572</td>\n",
       "      <td>200422</td>\n",
       "      <td>224431</td>\n",
       "      <td>46</td>\n",
       "      <td>889.483333</td>\n",
       "    </tr>\n",
       "    <tr>\n",
       "      <th>1</th>\n",
       "      <td>200418-012023-49.wav</td>\n",
       "      <td>1.0</td>\n",
       "      <td>0.148294</td>\n",
       "      <td>0.764870</td>\n",
       "      <td>0.357143</td>\n",
       "      <td>0.005881</td>\n",
       "      <td>1.291140e-05</td>\n",
       "      <td>0.225899</td>\n",
       "      <td>0.005208</td>\n",
       "      <td>0.296632</td>\n",
       "      <td>...</td>\n",
       "      <td>0.394253</td>\n",
       "      <td>0.613037</td>\n",
       "      <td>0.024510</td>\n",
       "      <td>0.000149</td>\n",
       "      <td>0.401618</td>\n",
       "      <td>0.040579</td>\n",
       "      <td>200418</td>\n",
       "      <td>012023</td>\n",
       "      <td>49</td>\n",
       "      <td>7933.616667</td>\n",
       "    </tr>\n",
       "    <tr>\n",
       "      <th>2</th>\n",
       "      <td>200412-062622-44.wav</td>\n",
       "      <td>1.0</td>\n",
       "      <td>0.486475</td>\n",
       "      <td>0.477887</td>\n",
       "      <td>0.510204</td>\n",
       "      <td>0.000470</td>\n",
       "      <td>2.854085e-07</td>\n",
       "      <td>0.324459</td>\n",
       "      <td>0.042563</td>\n",
       "      <td>0.513902</td>\n",
       "      <td>...</td>\n",
       "      <td>0.482256</td>\n",
       "      <td>0.576070</td>\n",
       "      <td>0.035522</td>\n",
       "      <td>0.000343</td>\n",
       "      <td>0.530707</td>\n",
       "      <td>0.147793</td>\n",
       "      <td>200412</td>\n",
       "      <td>062622</td>\n",
       "      <td>44</td>\n",
       "      <td>16267.633333</td>\n",
       "    </tr>\n",
       "    <tr>\n",
       "      <th>3</th>\n",
       "      <td>200429-090911-41.wav</td>\n",
       "      <td>1.0</td>\n",
       "      <td>0.567263</td>\n",
       "      <td>0.405675</td>\n",
       "      <td>0.357143</td>\n",
       "      <td>0.002065</td>\n",
       "      <td>1.807577e-06</td>\n",
       "      <td>0.337394</td>\n",
       "      <td>0.018458</td>\n",
       "      <td>0.487871</td>\n",
       "      <td>...</td>\n",
       "      <td>0.557136</td>\n",
       "      <td>0.402733</td>\n",
       "      <td>0.062345</td>\n",
       "      <td>0.000873</td>\n",
       "      <td>0.434716</td>\n",
       "      <td>0.049455</td>\n",
       "      <td>200429</td>\n",
       "      <td>090911</td>\n",
       "      <td>41</td>\n",
       "      <td>7527.816667</td>\n",
       "    </tr>\n",
       "    <tr>\n",
       "      <th>4</th>\n",
       "      <td>200415-013007-48.wav</td>\n",
       "      <td>1.0</td>\n",
       "      <td>0.369094</td>\n",
       "      <td>0.560836</td>\n",
       "      <td>0.357143</td>\n",
       "      <td>0.003183</td>\n",
       "      <td>2.105650e-06</td>\n",
       "      <td>0.245036</td>\n",
       "      <td>0.003657</td>\n",
       "      <td>0.309775</td>\n",
       "      <td>...</td>\n",
       "      <td>0.612181</td>\n",
       "      <td>0.355308</td>\n",
       "      <td>0.037567</td>\n",
       "      <td>0.000158</td>\n",
       "      <td>0.418474</td>\n",
       "      <td>0.034596</td>\n",
       "      <td>200415</td>\n",
       "      <td>013007</td>\n",
       "      <td>48</td>\n",
       "      <td>12243.883333</td>\n",
       "    </tr>\n",
       "  </tbody>\n",
       "</table>\n",
       "<p>5 rows × 31 columns</p>\n",
       "</div>"
      ],
      "text/plain": [
       "               filename  length  mean_stft  var_stft     tempo  rms_mean  \\\n",
       "0  200422-224431-46.wav     1.0   0.437470  0.591831  0.357143  0.000553   \n",
       "1  200418-012023-49.wav     1.0   0.148294  0.764870  0.357143  0.005881   \n",
       "2  200412-062622-44.wav     1.0   0.486475  0.477887  0.510204  0.000470   \n",
       "3  200429-090911-41.wav     1.0   0.567263  0.405675  0.357143  0.002065   \n",
       "4  200415-013007-48.wav     1.0   0.369094  0.560836  0.357143  0.003183   \n",
       "\n",
       "        rms_var  centroid_mean  centroid_var  bandwidth_mean  ...  cqt_mean  \\\n",
       "0  1.261622e-07       0.401858      0.020507        0.495841  ...  0.414255   \n",
       "1  1.291140e-05       0.225899      0.005208        0.296632  ...  0.394253   \n",
       "2  2.854085e-07       0.324459      0.042563        0.513902  ...  0.482256   \n",
       "3  1.807577e-06       0.337394      0.018458        0.487871  ...  0.557136   \n",
       "4  2.105650e-06       0.245036      0.003657        0.309775  ...  0.612181   \n",
       "\n",
       "    cqt_var  flatness_mean  flatness_var  tonnetz_mean  tonnetz_var    date  \\\n",
       "0  0.462325       0.104549      0.001723      0.448714     0.076572  200422   \n",
       "1  0.613037       0.024510      0.000149      0.401618     0.040579  200418   \n",
       "2  0.576070       0.035522      0.000343      0.530707     0.147793  200412   \n",
       "3  0.402733       0.062345      0.000873      0.434716     0.049455  200429   \n",
       "4  0.355308       0.037567      0.000158      0.418474     0.034596  200415   \n",
       "\n",
       "     time  some_id  swarming_score  \n",
       "0  224431       46      889.483333  \n",
       "1  012023       49     7933.616667  \n",
       "2  062622       44    16267.633333  \n",
       "3  090911       41     7527.816667  \n",
       "4  013007       48    12243.883333  \n",
       "\n",
       "[5 rows x 31 columns]"
      ]
     },
     "execution_count": 15,
     "metadata": {},
     "output_type": "execute_result"
    }
   ],
   "source": [
    "data_0524 = BeeData(Constants.FOLDER[1], Constants.SWARMING, pickle_file_name = '2023-01-23-19-09-24.pkl', read_from_pickle = True, convert_pcm_wav=False)\n",
    "df_0524 = data_0524.get_dataframe()\n",
    "df_0502.head()"
   ]
  },
  {
   "attachments": {},
   "cell_type": "markdown",
   "metadata": {},
   "source": [
    "### Concating the two dataframes"
   ]
  },
  {
   "cell_type": "code",
   "execution_count": 16,
   "metadata": {},
   "outputs": [
    {
     "data": {
      "text/plain": [
       "(6988, 32)"
      ]
     },
     "execution_count": 16,
     "metadata": {},
     "output_type": "execute_result"
    }
   ],
   "source": [
    "df_genalg = pd.concat([df_0502, df_0524]).reset_index()\n",
    "df_genalg.shape"
   ]
  },
  {
   "attachments": {},
   "cell_type": "markdown",
   "metadata": {},
   "source": [
    "# Genetic algorithm"
   ]
  },
  {
   "cell_type": "code",
   "execution_count": 17,
   "metadata": {},
   "outputs": [],
   "source": [
    "genetic_algorithm = GeneticAlgorithm(df_genalg, Constants.COLUMNS)"
   ]
  },
  {
   "cell_type": "code",
   "execution_count": 21,
   "metadata": {},
   "outputs": [
    {
     "name": "stderr",
     "output_type": "stream",
     "text": [
      "Generation: 22, Best fitness: 12.4132:  44%|████▍     | 22/50 [18:29<23:32, 50.44s/it]\n"
     ]
    },
    {
     "name": "stdout",
     "output_type": "stream",
     "text": [
      "Early stopping happened, because best fitness did not change over 20 iterations\n"
     ]
    },
    {
     "data": {
      "text/plain": [
       "array([0.84498096, 0.34320388, 0.23457219, 0.46577274, 0.55834761,\n",
       "       0.2804793 , 0.720941  , 0.8321419 , 0.87832703, 0.43235848,\n",
       "       0.78710598, 0.24418525, 0.61712665, 0.2865    , 0.78697264,\n",
       "       0.06874762, 0.71002864, 0.83702525, 0.83136462, 0.43695473,\n",
       "       0.77936958, 0.51692796, 0.21138862, 0.29709272, 0.37081356,\n",
       "       0.10384901])"
      ]
     },
     "execution_count": 21,
     "metadata": {},
     "output_type": "execute_result"
    }
   ],
   "source": [
    "genetic_algorithm.run_evolution(250, len(Constants.COLUMNS), n_iter=50, mutation_prob=0.55, early_stopping_max = 20)"
   ]
  },
  {
   "cell_type": "code",
   "execution_count": 22,
   "metadata": {},
   "outputs": [
    {
     "name": "stderr",
     "output_type": "stream",
     "text": [
      "Generation: 18, Best fitness: 17.996:  36%|███▌      | 18/50 [05:26<09:40, 18.13s/it]\n"
     ]
    },
    {
     "name": "stdout",
     "output_type": "stream",
     "text": [
      "Early stopping happened, because best fitness did not change over 15 iterations\n"
     ]
    },
    {
     "data": {
      "text/plain": [
       "array([0.8775488 , 0.55987873, 0.04795503, 0.71011608, 0.75511177,\n",
       "       0.52033389, 0.48938966, 0.95368673, 0.76779261, 0.39187159,\n",
       "       0.87029847, 0.26629998, 0.38600696, 0.18197226, 0.84669604,\n",
       "       0.15449571, 0.42433616, 0.55905843, 0.64133284, 0.89603458,\n",
       "       0.39444045, 0.29805536, 0.69064349, 0.26703299, 0.68477432,\n",
       "       0.08492887])"
      ]
     },
     "execution_count": 22,
     "metadata": {},
     "output_type": "execute_result"
    }
   ],
   "source": [
    "genetic_algorithm.run_evolution(150, len(Constants.COLUMNS), n_iter=50, mutation_prob=0.9, early_stopping_max = 15)"
   ]
  },
  {
   "cell_type": "code",
   "execution_count": 24,
   "metadata": {},
   "outputs": [
    {
     "name": "stderr",
     "output_type": "stream",
     "text": [
      "Generation: 49, Best fitness: 18.756: 100%|██████████| 50/50 [26:33<00:00, 31.87s/it]\n"
     ]
    },
    {
     "data": {
      "text/plain": [
       "array([0.86395397, 0.38883411, 0.01722433, 0.05523361, 0.46359308,\n",
       "       0.49062127, 0.0542237 , 0.69430305, 0.49981858, 0.53889213,\n",
       "       0.92733475, 0.19652173, 0.65663583, 0.58394731, 0.96070364,\n",
       "       0.39896046, 0.55187867, 0.71733844, 0.72217522, 0.15270167,\n",
       "       0.51873994, 0.55309222, 0.75251276, 0.24908641, 0.37146495,\n",
       "       0.62735586])"
      ]
     },
     "execution_count": 24,
     "metadata": {},
     "output_type": "execute_result"
    }
   ],
   "source": [
    "genetic_algorithm.run_evolution(200, len(Constants.COLUMNS), n_iter=50, mutation_prob=0.4, early_stopping=False)"
   ]
  }
 ],
 "metadata": {
  "kernelspec": {
   "display_name": ".venv",
   "language": "python",
   "name": "python3"
  },
  "language_info": {
   "codemirror_mode": {
    "name": "ipython",
    "version": 3
   },
   "file_extension": ".py",
   "mimetype": "text/x-python",
   "name": "python",
   "nbconvert_exporter": "python",
   "pygments_lexer": "ipython3",
   "version": "3.8.9"
  },
  "orig_nbformat": 4,
  "vscode": {
   "interpreter": {
    "hash": "5c08f7b27d0816f654d8da52c058716889407e8c929fa1a2b798c446ff48a0dc"
   }
  }
 },
 "nbformat": 4,
 "nbformat_minor": 2
}
